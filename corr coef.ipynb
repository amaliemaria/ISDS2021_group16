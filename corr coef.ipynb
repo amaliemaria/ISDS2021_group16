{
 "cells": [
  {
   "cell_type": "code",
   "execution_count": 9,
   "metadata": {},
   "outputs": [],
   "source": [
    "import numpy as np"
   ]
  },
  {
   "cell_type": "code",
   "execution_count": 19,
   "metadata": {},
   "outputs": [],
   "source": [
    "pos = [63, 99, 89, 83, 80, 46, 27, 29, 51, 45, 53]\n",
    "neg = [32, 49, 64, 80, 72, 36, 56, 57, 31, 43, 34]\n",
    "neu = [40, 69, 91, 71, 136, 55, 49, 105, 57, 83, 48]\n",
    "\n",
    "pos1 = [99, 89, 83, 80, 46, 27, 29, 51, 45, 53]\n",
    "neg1 = [49, 64, 80, 72, 36, 56, 57, 31, 43, 34]\n",
    "neu1 = [69, 91, 71, 136, 55, 49, 105, 57, 83, 48]\n",
    "\n",
    "#sentiment for dagene 9. august til 19 august"
   ]
  },
  {
   "cell_type": "code",
   "execution_count": 20,
   "metadata": {},
   "outputs": [],
   "source": [
    "samlet = [pos[i]+neg[i]+neu[i] for i in range(len(pos))]\n",
    "samlet1 = [pos1[i]+neg1[i]+neu1[i] for i in range(len(pos1))]"
   ]
  },
  {
   "cell_type": "code",
   "execution_count": 21,
   "metadata": {},
   "outputs": [],
   "source": [
    "pos_rat = [pos[i]/samlet[i]*100 for i in range(len(samlet))]\n",
    "neg_rat  = [neg[i]/samlet[i]*100 for i in range(len(samlet))]\n",
    "neu_rat = [neu[i]/samlet[i]*100 for i in range(len(samlet))]\n",
    "\n",
    "pos_rat1 = [pos1[i]/samlet1[i]*100 for i in range(len(samlet1))]\n",
    "neg_rat1  = [neg1[i]/samlet1[i]*100 for i in range(len(samlet1))]\n",
    "neu_rat1 = [neu1[i]/samlet1[i]*100 for i in range(len(samlet1))]"
   ]
  },
  {
   "cell_type": "code",
   "execution_count": 22,
   "metadata": {},
   "outputs": [],
   "source": [
    "smitte = [1082, 1066, 989, 1000, 963, 821, 935, 1100, 1028, 969, 552]\n",
    "\n",
    "smitte_idag = [1066, 989, 1000, 963, 821, 935, 1100, 1028, 969, 552]\n",
    "smitte_igår = [1082, 1066, 989, 1000, 963, 821, 935, 1100, 1028, 969]\n"
   ]
  },
  {
   "cell_type": "code",
   "execution_count": 15,
   "metadata": {},
   "outputs": [
    {
     "data": {
      "text/plain": [
       "array([[1.        , 0.32135794],\n",
       "       [0.32135794, 1.        ]])"
      ]
     },
     "execution_count": 15,
     "metadata": {},
     "output_type": "execute_result"
    }
   ],
   "source": [
    "np.corrcoef(smitte, samlet)"
   ]
  },
  {
   "cell_type": "code",
   "execution_count": 16,
   "metadata": {},
   "outputs": [
    {
     "data": {
      "text/plain": [
       "array([[ 1.        , -0.00700435],\n",
       "       [-0.00700435,  1.        ]])"
      ]
     },
     "execution_count": 16,
     "metadata": {},
     "output_type": "execute_result"
    }
   ],
   "source": [
    "np.corrcoef(smitte, neg_rat)"
   ]
  },
  {
   "cell_type": "code",
   "execution_count": 23,
   "metadata": {},
   "outputs": [
    {
     "data": {
      "text/plain": [
       "array([[1.        , 0.43756179],\n",
       "       [0.43756179, 1.        ]])"
      ]
     },
     "execution_count": 23,
     "metadata": {},
     "output_type": "execute_result"
    }
   ],
   "source": [
    "np.corrcoef(smitte_idag , samlet1 )"
   ]
  },
  {
   "cell_type": "code",
   "execution_count": 25,
   "metadata": {},
   "outputs": [
    {
     "data": {
      "text/plain": [
       "array([[1.        , 0.33455476],\n",
       "       [0.33455476, 1.        ]])"
      ]
     },
     "execution_count": 25,
     "metadata": {},
     "output_type": "execute_result"
    }
   ],
   "source": [
    "np.corrcoef(smitte_igår , samlet1 )"
   ]
  },
  {
   "cell_type": "code",
   "execution_count": 34,
   "metadata": {},
   "outputs": [
    {
     "data": {
      "image/png": "[encoded data removed]",
      "text/plain": [
       "<Figure size 432x288 with 1 Axes>"
      ]
     },
     "metadata": {
      "needs_background": "light"
     },
     "output_type": "display_data"
    }
   ],
   "source": [
    "import matplotlib.pyplot as plt\n",
    "x=range(len(y1))\n",
    "x1 = [\"2021-08-09\", \"2021-08-10\", \"2021-08-11\", \"2021-08-12\", \"2021-08-13\", \"2021-08-14\", \"2021-08-15\", \"2021-08-16\", \"2021-08-17\",\"2021-08-18\", \"2021-08-19\", \"2021-08-20\", \"2021-08-21\", \"2021-08-22\"]\n",
    "y1=[63, 99, 89, 83, 80, 46, 27, 29, 51, 45, 53, 63, 42, 6]\n",
    "y2=[32, 49, 64, 80, 72, 36, 56, 57, 31, 43, 34, 44, 47, 21]\n",
    "y3=[40, 69, 91, 71, 136, 55, 49, 105, 57, 83, 48, 83, 45, 17]\n",
    " \n",
    "# Basic stacked area chart.\n",
    "plt.stackplot(x1,y1, y2, y3, labels=['Positive','Negative','Neutral'])\n",
    "plt.legend(loc='upper left')\n",
    "plt.ylabel('Ratio', size=12)\n",
    "plt.xticks(rotation=90)\n",
    "plt.show()"
   ]
  },
  {
   "cell_type": "code",
   "execution_count": null,
   "metadata": {},
   "outputs": [],
   "source": []
  }
 ],
 "metadata": {
  "kernelspec": {
   "display_name": "Python 3",
   "language": "python",
   "name": "python3"
  },
  "language_info": {
   "codemirror_mode": {
    "name": "ipython",
    "version": 3
   },
   "file_extension": ".py",
   "mimetype": "text/x-python",
   "name": "python",
   "nbconvert_exporter": "python",
   "pygments_lexer": "ipython3",
   "version": "3.8.5"
  }
 },
 "nbformat": 4,
 "nbformat_minor": 4
}
