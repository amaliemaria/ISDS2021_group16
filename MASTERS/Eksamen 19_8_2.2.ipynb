{
 "cells": [
  {
   "cell_type": "code",
   "execution_count": 1,
   "id": "44cf59fb",
   "metadata": {},
   "outputs": [
    {
     "name": "stderr",
     "output_type": "stream",
     "text": [
      "[nltk_data] Downloading package punkt to\n",
      "[nltk_data]     C:\\Users\\axbae\\AppData\\Roaming\\nltk_data...\n",
      "[nltk_data]   Package punkt is already up-to-date!\n",
      "[nltk_data] Downloading package wordnet to\n",
      "[nltk_data]     C:\\Users\\axbae\\AppData\\Roaming\\nltk_data...\n",
      "[nltk_data]   Package wordnet is already up-to-date!\n"
     ]
    },
    {
     "data": {
      "text/plain": [
       "True"
      ]
     },
     "execution_count": 1,
     "metadata": {},
     "output_type": "execute_result"
    }
   ],
   "source": [
    "# Python Script to Extract tweets of a \n",
    "# particular Hashtag using Tweepy and Pandas\n",
    "\n",
    "# import modules\n",
    "from tweepy import Stream\n",
    "from tweepy import OAuthHandler\n",
    "from tweepy.streaming import StreamListener\n",
    "import datetime\n",
    "import tweepy\n",
    "import json\n",
    "import pandas as pd\n",
    "import csv\n",
    "import re #regular expression\n",
    "from textblob import TextBlob\n",
    "import string\n",
    "import preprocessor as p\n",
    "import os\n",
    "from nltk.corpus import stopwords\n",
    "from nltk.tokenize import word_tokenize\n",
    "import nltk\n",
    "nltk.download('punkt')\n",
    "nltk.download('wordnet')  "
   ]
  },
  {
   "cell_type": "markdown",
   "id": "a9bd255c",
   "metadata": {},
   "source": [
    "### Combining dataframes"
   ]
  },
  {
   "cell_type": "code",
   "execution_count": 13,
   "id": "6db839c0",
   "metadata": {},
   "outputs": [],
   "source": [
    "df1=pd.read_csv('df1.csv')\n",
    "df2=pd.read_csv('df2.csv')\n",
    "df3=pd.read_csv('df3.csv')\n",
    "\n",
    "obs = [df1, df2, df3]\n",
    "\n",
    "data_set = pd.concat(obs)\n",
    "data_set = data_set.reset_index(drop = True)\n",
    "#data_set"
   ]
  },
  {
   "cell_type": "markdown",
   "id": "1c62dd47",
   "metadata": {},
   "source": [
    "### Cleaning the DataFrame"
   ]
  },
  {
   "cell_type": "markdown",
   "id": "9be04a9a",
   "metadata": {},
   "source": [
    "#### Dropping & Creating Columns "
   ]
  },
  {
   "cell_type": "code",
   "execution_count": 5,
   "id": "255293a0",
   "metadata": {},
   "outputs": [],
   "source": [
    "#Dropping collumns\n",
    "data_set1 = data_set.drop(['Unnamed: 0','username', 'description', 'followers', 'following'], axis=1).reset_index(drop = True)\n",
    "\n",
    "#Creating collumn for hashtags\n",
    "data_set1['hashtags'] = data_set1['text'].apply(lambda x: re.findall(r'#(\\w+)', x))\n",
    "\n",
    "#Calling text column\n",
    "tweets = data_set1['text'].values"
   ]
  },
  {
   "cell_type": "markdown",
   "id": "e33fb127",
   "metadata": {},
   "source": [
    "#### Emojis & Emoticons"
   ]
  },
  {
   "cell_type": "code",
   "execution_count": null,
   "id": "fbe24307",
   "metadata": {},
   "outputs": [],
   "source": [
    "#https://stackoverflow.com/questions/33404752/removing-emojis-from-a-string-in-python"
   ]
  },
  {
   "cell_type": "code",
   "execution_count": 4,
   "id": "7738e82c",
   "metadata": {},
   "outputs": [],
   "source": [
    "emoji_pattern = re.compile(\"[\"\n",
    "        u\"\\U0001F600-\\U0001F64F\"  # emoticons\n",
    "        u\"\\U0001F300-\\U0001F5FF\"  # symbols & pictographs\n",
    "        u\"\\U0001F680-\\U0001F6FF\"  # transport & map symbols\n",
    "        u\"\\U0001F1E0-\\U0001F1FF\"  # flags (iOS)\n",
    "        u\"\\U00002500-\\U00002BEF\"  # chinese char\n",
    "        u\"\\U00002702-\\U000027B0\"\n",
    "        u\"\\U00002702-\\U000027B0\"\n",
    "        u\"\\U000024C2-\\U0001F251\"\n",
    "        u\"\\U0001f926-\\U0001f937\"\n",
    "        u\"\\U00010000-\\U0010ffff\"\n",
    "        u\"\\u2640-\\u2642\" \n",
    "        u\"\\u2600-\\u2B55\"\n",
    "        u\"\\u200d\"\n",
    "        u\"\\u23cf\"\n",
    "        u\"\\u23e9\"\n",
    "        u\"\\u231a\"\n",
    "        u\"\\ufe0f\"  # dingbats\n",
    "        u\"\\u3030\"\n",
    "         \"]+\", flags=re.UNICODE)"
   ]
  },
  {
   "cell_type": "markdown",
   "id": "f2bbd412",
   "metadata": {},
   "source": [
    "#### Cleaning with Regex Expressions"
   ]
  },
  {
   "cell_type": "code",
   "execution_count": 6,
   "id": "488825a6",
   "metadata": {},
   "outputs": [],
   "source": [
    "import numpy as np\n",
    "wnl = nltk.WordNetLemmatizer()\n",
    "\n",
    "def clean_tweet(tweet):\n",
    "    if type(tweet) == np.float64:\n",
    "        return \"\"\n",
    "    temp = tweet.lower()\n",
    "    temp = re.sub(\"'\", \"\", temp) \n",
    "    temp = re.sub(\"@[A-Za-z0-9_]+\",\"\", temp)\n",
    "    temp = re.sub(\"#[A-Za-z0-9_]+\",\"\", temp)\n",
    "    temp = re.sub(r'http\\S+', '', temp)\n",
    "    temp = re.sub('[()!?]', ' ', temp)\n",
    "    temp = re.sub('[.,*?:]',' ', temp)\n",
    "    temp = re.sub('\\v', ' ', temp)\n",
    "    temp = re.sub(\"[\\\\n]\",' ', temp)\n",
    "    temp = re.sub('1/n',' ', temp)\n",
    "    temp = re.sub('2/n',' ', temp)\n",
    "    temp = re.sub('3/n',' ', temp)\n",
    "    temp = re.sub('4/n',' ', temp)\n",
    "    temp = re.sub('5/n',' ', temp)\n",
    "    temp = re.sub('6/n',' ', temp)\n",
    "    temp = re.sub('7/n',' ', temp)\n",
    "    temp = re.sub('8/n',' ', temp)\n",
    "    temp = re.sub('-','', temp) \n",
    "    temp = re.sub('%','', temp) \n",
    "    temp = re.sub('[\"]','', temp)\n",
    "    temp = re.sub(\"[']\",\"\", temp)\n",
    "    temp = re.sub('[0-9]', ' ', temp)\n",
    "    temp = re.sub('\\+', ' ', temp)\n",
    "   \n",
    "    temp = emoji_pattern.sub(r'', temp)\n",
    "    return temp"
   ]
  },
  {
   "cell_type": "markdown",
   "id": "1aad9c29",
   "metadata": {},
   "source": [
    "#### Sentiment Analysis using Afinn (danish)"
   ]
  },
  {
   "cell_type": "code",
   "execution_count": 7,
   "id": "c539c740",
   "metadata": {},
   "outputs": [],
   "source": [
    "#importer dansk som sprog\n",
    "#pip install afinn\n",
    "from afinn import Afinn\n",
    "afinn = Afinn(language='da')"
   ]
  },
  {
   "cell_type": "markdown",
   "id": "3309b4f4",
   "metadata": {},
   "source": [
    "#### Looping over rows in \"text\" column: cleaning and assigning sentiment score"
   ]
  },
  {
   "cell_type": "code",
   "execution_count": 12,
   "id": "c4cddf53",
   "metadata": {},
   "outputs": [],
   "source": [
    "\n",
    "tweetser = [None for i in range(len(data_set1))]\n",
    "\n",
    "score = [None for i in range(len(data_set1))]\n",
    "for i in range(len(data_set1)):  \n",
    "    tweetser[i] = clean_tweet(data_set1.text.values[i])\n",
    "    score[i]= afinn.score(tweetser[i])\n",
    "    \n",
    "#count reetweets\n",
    "#Counter(tweetser).most_common()"
   ]
  },
  {
   "cell_type": "markdown",
   "id": "1a7ece74",
   "metadata": {},
   "source": [
    "#### Inserting new columns into the original data set"
   ]
  },
  {
   "cell_type": "code",
   "execution_count": 9,
   "id": "3bd1d5d5",
   "metadata": {
    "scrolled": true
   },
   "outputs": [],
   "source": [
    "data_set1['Clean Text'] = tweetser\n",
    "data_set1['Sentiment'] = score\n",
    "final_set = data_set1.drop(['text'], axis=1).reset_index(drop = True)\n",
    "#final_set"
   ]
  },
  {
   "cell_type": "markdown",
   "id": "fbd69cec",
   "metadata": {},
   "source": [
    "### Term Frequency "
   ]
  },
  {
   "cell_type": "markdown",
   "id": "0403b8bf",
   "metadata": {},
   "source": [
    "#### Deleting ' , in strings"
   ]
  },
  {
   "cell_type": "code",
   "execution_count": null,
   "id": "46953801",
   "metadata": {},
   "outputs": [],
   "source": [
    "clean_data = [clean_tweet(tweets) for tweets in tweets]\n",
    "\n",
    "c = str(clean_data) #converting the clean_data from a list to a string\n",
    "a = c.replace(\"'\", \"\")\n",
    "b = a.replace(\",\", \"\")"
   ]
  },
  {
   "cell_type": "markdown",
   "id": "87ef0ce2",
   "metadata": {},
   "source": [
    "#### Removing stopwords"
   ]
  },
  {
   "cell_type": "code",
   "execution_count": null,
   "id": "f27bd6c2",
   "metadata": {},
   "outputs": [],
   "source": [
    "#Remove danish stopWords\n",
    "stopWords = set(stopwords.words('danish'))\n",
    "sent_sw_removed = [i for i in nltk.word_tokenize(b.lower()) if i not in stopWords]"
   ]
  },
  {
   "cell_type": "markdown",
   "id": "624df0dc",
   "metadata": {},
   "source": [
    "#### Counting most frequent words"
   ]
  },
  {
   "cell_type": "code",
   "execution_count": null,
   "id": "84d8d1f4",
   "metadata": {
    "scrolled": true
   },
   "outputs": [],
   "source": [
    "from collections import Counter\n",
    "\n",
    "tæl = Counter(sent_sw_removed).most_common()"
   ]
  },
  {
   "cell_type": "markdown",
   "id": "a74a0f89",
   "metadata": {},
   "source": [
    "#### Ordering in tabel"
   ]
  },
  {
   "cell_type": "code",
   "execution_count": null,
   "id": "9b7af937",
   "metadata": {
    "scrolled": true
   },
   "outputs": [],
   "source": [
    "counter_tabel=pd.DataFrame(tæl)\n",
    "counter_tabel.columns = ['Ord', 'Antal']\n",
    "\n",
    "counter_tabel"
   ]
  }
 ],
 "metadata": {
  "kernelspec": {
   "display_name": "Python 3",
   "language": "python",
   "name": "python3"
  },
  "language_info": {
   "codemirror_mode": {
    "name": "ipython",
    "version": 3
   },
   "file_extension": ".py",
   "mimetype": "text/x-python",
   "name": "python",
   "nbconvert_exporter": "python",
   "pygments_lexer": "ipython3",
   "version": "3.8.8"
  }
 },
 "nbformat": 4,
 "nbformat_minor": 5
}
