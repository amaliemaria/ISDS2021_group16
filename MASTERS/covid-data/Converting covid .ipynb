{
 "cells": [
  {
   "cell_type": "code",
   "execution_count": 8,
   "id": "01e76a3c",
   "metadata": {},
   "outputs": [],
   "source": [
    "import pandas as pd\n",
    "import numpy as np\n",
    "import matplotlib"
   ]
  },
  {
   "cell_type": "code",
   "execution_count": 29,
   "id": "6a712534",
   "metadata": {
    "scrolled": true
   },
   "outputs": [],
   "source": [
    "covid = pd.read_csv('new_positives.csv')\n",
    "#covid"
   ]
  },
  {
   "cell_type": "markdown",
   "id": "a5798eff",
   "metadata": {},
   "source": [
    "#### Selecting data from 9/8/2021 - 18/8/2021, columns: data and new positives"
   ]
  },
  {
   "cell_type": "code",
   "execution_count": 28,
   "id": "602c6be2",
   "metadata": {
    "scrolled": true
   },
   "outputs": [],
   "source": [
    "df = covid.loc [560:569, ['Date', 'NewPositive']]\n",
    "df.to_csv('positives.csv', index = False)"
   ]
  }
 ],
 "metadata": {
  "kernelspec": {
   "display_name": "Python 3",
   "language": "python",
   "name": "python3"
  },
  "language_info": {
   "codemirror_mode": {
    "name": "ipython",
    "version": 3
   },
   "file_extension": ".py",
   "mimetype": "text/x-python",
   "name": "python",
   "nbconvert_exporter": "python",
   "pygments_lexer": "ipython3",
   "version": "3.8.8"
  }
 },
 "nbformat": 4,
 "nbformat_minor": 5
}
